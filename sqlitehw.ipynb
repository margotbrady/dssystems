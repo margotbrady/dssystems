{
 "cells": [
  {
   "cell_type": "code",
   "execution_count": 1,
   "id": "5716fcaa-6a09-49b6-aac7-98b71116eef8",
   "metadata": {},
   "outputs": [
    {
     "name": "stdout",
     "output_type": "stream",
     "text": [
      "Database created!\n",
      "Cursor created!\n"
     ]
    }
   ],
   "source": [
    "#1. Set Up the Database\n",
    "\n",
    "import sqlite3\n",
    "# Connect to database\n",
    "connection = sqlite3.connect('student_grades.db')\n",
    "\n",
    "\n",
    "# Check if the connection was successful\n",
    "print(\"Database created!\")\n",
    "\n",
    "# Create a cursor object\n",
    "cursor = connection.cursor()\n",
    "\n",
    "# Explanation\n",
    "print(\"Cursor created!\")\n",
    "cursor.close()"
   ]
  },
  {
   "cell_type": "code",
   "execution_count": 2,
   "id": "ad0dfa01-9072-458d-be66-94925f1fbe15",
   "metadata": {},
   "outputs": [
    {
     "name": "stdout",
     "output_type": "stream",
     "text": [
      "Students table created!\n"
     ]
    }
   ],
   "source": [
    "#2. Create the necessary tables\n",
    "cursor = connection.cursor()\n",
    "\n",
    "# Create the students table\n",
    "cursor.execute('''\n",
    "CREATE TABLE IF NOT EXISTS students (\n",
    "    student_id INTEGER PRIMARY KEY AUTOINCREMENT,\n",
    "    first_name TEXT,\n",
    "    last_name TEXT\n",
    ")\n",
    "''')\n",
    "\n",
    "print(\"Students table created!\")\n",
    "\n",
    "# Create the grades table\n",
    "cursor.execute('''\n",
    "CREATE TABLE IF NOT EXISTS grades (\n",
    "    grade_id INTEGER PRIMARY KEY AUTOINCREMENT,\n",
    "    student_id INTEGER,\n",
    "    subject TEXT,\n",
    "    grade INTEGER,\n",
    "    FOREIGN KEY (student_id) REFERENCES students (student_id)\n",
    ")\n",
    "''')\n",
    "\n",
    "cursor.close()"
   ]
  },
  {
   "cell_type": "code",
   "execution_count": 3,
   "id": "a424260e-80d5-4cec-bfe7-c0e9e70c35f1",
   "metadata": {},
   "outputs": [
    {
     "name": "stdout",
     "output_type": "stream",
     "text": [
      "Data inserted into the students table!\n",
      "Data inserted into the grades table!\n"
     ]
    }
   ],
   "source": [
    "#3. insert data\n",
    "cursor = connection.cursor()\n",
    "# Sample data to insert into the students table\n",
    "students = [\n",
    "    ('Hunter', 'Holden'),\n",
    "    ('Mckenna', 'Kundis'),\n",
    "    ('Kate', 'Gillen'),\n",
    "    ('Margot','Brady'),\n",
    "    ('Abigail', 'Mchoul')\n",
    "]\n",
    "\n",
    "# Insert data into the table\n",
    "cursor.executemany('''\n",
    "INSERT INTO students (first_name, last_name) VALUES (?, ?)\n",
    "''', students)\n",
    "\n",
    "# Commit the transaction\n",
    "connection.commit()\n",
    "\n",
    "print(\"Data inserted into the students table!\")\n",
    "\n",
    "\n",
    "grades = [\n",
    "    (1, 'History', 100),\n",
    "    (1, 'Math', 78),\n",
    "    (1, 'English', 93),\n",
    "    (2, 'History', 95),\n",
    "    (2, 'Math', 88),\n",
    "    (2, 'English', 90),\n",
    "    (3, 'History', 89),\n",
    "    (3, 'Math', 67),\n",
    "    (3, 'English', 98),\n",
    "    (4, 'History', 100),\n",
    "    (4, 'Math', 100),\n",
    "    (4, 'English', 90),\n",
    "    (5, 'History', 82),\n",
    "    (5, 'Math', 75),\n",
    "    (5, 'English', 97)\n",
    "    \n",
    "]\n",
    "\n",
    "cursor.executemany('''\n",
    "INSERT INTO grades (student_id, subject, grade) VALUES (?, ?,?)\n",
    "''', grades) \n",
    "\n",
    "# Commit the transaction\n",
    "connection.commit()\n",
    "\n",
    "print(\"Data inserted into the grades table!\")\n",
    "cursor.close()"
   ]
  },
  {
   "cell_type": "code",
   "execution_count": 7,
   "id": "61b8056b-ffbf-4baa-9db2-d6a85f548da8",
   "metadata": {},
   "outputs": [
    {
     "name": "stdout",
     "output_type": "stream",
     "text": [
      "Student grades: \n",
      "Hunter Holden:\n",
      "  History: 100\n",
      "  Math: 78\n",
      "  English: 93\n",
      "Mckenna Kundis:\n",
      "  History: 95\n",
      "  Math: 88\n",
      "  English: 90\n",
      "Kate Gillen:\n",
      "  History: 89\n",
      "  Math: 67\n",
      "  English: 98\n",
      "Margot Brady:\n",
      "  History: 100\n",
      "  Math: 100\n",
      "  English: 90\n",
      "Abigail Mchoul:\n",
      "  History: 82\n",
      "  Math: 75\n",
      "  English: 97\n"
     ]
    }
   ],
   "source": [
    "#4. SQL queries \n",
    "cursor = connection.cursor()\n",
    "#Retrieve all students' names and their grades\n",
    "\n",
    "# Perform a JOIN query between students and grades\n",
    "cursor.execute('''\n",
    "SELECT students.first_name, students.last_name, grades.subject, grades.grade, grades.student_id\n",
    "FROM students\n",
    "JOIN grades ON students.student_id = grades.student_id\n",
    "''')\n",
    "\n",
    "# Fetch and display the results\n",
    "joined_data = cursor.fetchall()\n",
    "\n",
    "studentdict = {}\n",
    "\n",
    "for row in joined_data:\n",
    "    name = f\"{row[0]} {row[1]}\"\n",
    "    subjectgrade = (row[2], row[3])\n",
    "    if name in studentdict:\n",
    "        studentdict[name].append(subjectgrade)\n",
    "    else: \n",
    "        studentdict[name] = []\n",
    "        studentdict[name].append(subjectgrade)\n",
    "\n",
    "#Print results\n",
    "print(\"Student grades: \")\n",
    "for student, grades in studentdict.items():\n",
    "    print(f\"{student}:\")\n",
    "    for subject, grade in grades:\n",
    "        print(f\"  {subject}: {grade}\")\n",
    "\n",
    "cursor.close()"
   ]
  },
  {
   "cell_type": "code",
   "execution_count": 8,
   "id": "5fdeed43-4050-4cee-a6f6-6dd46c92bc49",
   "metadata": {},
   "outputs": [
    {
     "name": "stdout",
     "output_type": "stream",
     "text": [
      "Grade Averages for Each Student:\n",
      "Hunter Holden: 90.33333333333333\n",
      "Mckenna Kundis: 91.0\n",
      "Kate Gillen: 84.66666666666667\n",
      "Margot Brady: 96.66666666666667\n",
      "Abigail Mchoul: 84.66666666666667\n"
     ]
    }
   ],
   "source": [
    "#Find the average grade for each student\n",
    "cursor = connection.cursor()\n",
    "\n",
    "\n",
    "\n",
    "cursor.execute('''\n",
    "SELECT students.first_name, students.last_name, AVG(grades.grade) AS gradeavg\n",
    "FROM students\n",
    "JOIN grades ON students.student_id = grades.student_ID\n",
    "GROUP BY grades.student_id\n",
    "''')\n",
    "\n",
    "gradeavg = cursor.fetchall()\n",
    "\n",
    "print('Grade Averages for Each Student:')\n",
    "for row in gradeavg:\n",
    "    print(f\"{row[0]} {row[1]}: {row[2]}\")\n",
    "\n",
    "cursor.close()"
   ]
  },
  {
   "cell_type": "code",
   "execution_count": 9,
   "id": "a12c2739-c817-4d7c-8c1a-d230140cadcc",
   "metadata": {},
   "outputs": [
    {
     "name": "stdout",
     "output_type": "stream",
     "text": [
      "Student with the highest grade average: \n",
      "Margot Brady: 96.66666666666667\n"
     ]
    }
   ],
   "source": [
    "#3. Find the student with the highest average grade\n",
    "cursor = connection.cursor()\n",
    "\n",
    "\n",
    "\n",
    "cursor.execute('''\n",
    "SELECT students.first_name, students.last_name, AVG(grades.grade) AS grade_avg\n",
    "FROM students\n",
    "JOIN grades ON students.student_id = grades.student_ID\n",
    "GROUP BY grades.student_id\n",
    "ORDER BY grade_avg DESC\n",
    "LIMIT 1\n",
    "''')\n",
    "\n",
    "highestavg = cursor.fetchall()\n",
    "\n",
    "print('Student with the highest grade average: ')\n",
    "for row in highestavg:\n",
    "    print(f\"{row[0]} {row[1]}: {row[2]}\")\n",
    "\n",
    "cursor.close()\n"
   ]
  },
  {
   "cell_type": "code",
   "execution_count": 10,
   "id": "b19c460f-873d-4768-ab1b-5eb399413010",
   "metadata": {},
   "outputs": [
    {
     "name": "stdout",
     "output_type": "stream",
     "text": [
      "Average grade for math:\n",
      "('Math', 81.6)\n"
     ]
    }
   ],
   "source": [
    "#4. Find the average grade for the Math subject.\n",
    "\n",
    "cursor = connection.cursor()\n",
    "\n",
    "\n",
    "cursor.execute('''\n",
    "SELECT grades.subject, AVG(grades.grade) AS grade_avg\n",
    "FROM grades\n",
    "WHERE grades.subject = 'Math'\n",
    "''')\n",
    "\n",
    "subjectgrades = cursor.fetchall()\n",
    "\n",
    "print('Average grade for math:')\n",
    "for row in subjectgrades:\n",
    "    print(row)\n",
    "\n",
    "cursor.close()\n",
    "\n"
   ]
  },
  {
   "cell_type": "code",
   "execution_count": 20,
   "id": "09b5ff85-6c17-4584-b6e5-aab8ab0d9759",
   "metadata": {},
   "outputs": [
    {
     "name": "stdout",
     "output_type": "stream",
     "text": [
      "Students who scored above 90 in any subject:\n",
      "Hunter Holden\n",
      "Mckenna Kundis\n",
      "Kate Gillen\n",
      "Margot Brady\n",
      "Abigail Mchoul\n"
     ]
    }
   ],
   "source": [
    "#5. List all the students who scored above a 90 on any subject\n",
    "\n",
    "cursor = connection.cursor()\n",
    "\n",
    "cursor.execute('''\n",
    "SELECT students.first_name, students.last_name, grades.subject, grades.grade\n",
    "FROM students\n",
    "JOIN grades ON students.student_id = grades.student_id\n",
    "WHERE grades.grade > 90\n",
    "''')\n",
    "\n",
    "\n",
    "above90 = cursor.fetchall()\n",
    "\n",
    "\n",
    "print(\"Students who scored above 90 in any subject:\")\n",
    "\n",
    "# Create a dictionary\n",
    "ninetydict = {}\n",
    "\n",
    "for row in above90:\n",
    "    name = f\"{row[0]} {row[1]}\"\n",
    "    subjectgrade = (row[2], row[3])\n",
    "    if name in ninetydict:\n",
    "        ninetydict[name].append(subjectgrade)\n",
    "    else: \n",
    "        ninetydict[name] = []\n",
    "        ninetydict[name].append(subjectgrade)\n",
    "\n",
    "\n",
    "#Print results\n",
    "for student, grades in ninetydict.items():\n",
    "    print(f\"{student}\")\n",
    "\n",
    "\n",
    "\n",
    "cursor.close()\n"
   ]
  },
  {
   "cell_type": "code",
   "execution_count": 21,
   "id": "eb7bfca6-9048-4647-8c9e-32b585398f51",
   "metadata": {},
   "outputs": [
    {
     "name": "stdout",
     "output_type": "stream",
     "text": [
      "   student_id first_name last_name\n",
      "0           1     Hunter    Holden\n",
      "1           2    Mckenna    Kundis\n",
      "2           3       Kate    Gillen\n",
      "3           4     Margot     Brady\n",
      "4           5    Abigail    Mchoul\n",
      "   grade_id  student_id  subject  grade\n",
      "0         1           1  History    100\n",
      "1         2           1     Math     78\n",
      "2         3           1  English     93\n",
      "3         4           2  History     95\n",
      "4         5           2     Math     88\n"
     ]
    }
   ],
   "source": [
    "# Take all data from students and put into a pandas dataframe\n",
    "import pandas as pd\n",
    "cursor = connection.cursor()\n",
    "\n",
    "students = pd.read_sql_query('SELECT * FROM students', connection)\n",
    "\n",
    "\n",
    "print(students.head())\n",
    "\n",
    "#Take all data from grades and put into a pandas dataframe\n",
    "\n",
    "grades = pd.read_sql_query('SELECT * FROM grades', connection)\n",
    "\n",
    "print(grades.head())"
   ]
  },
  {
   "cell_type": "code",
   "execution_count": 22,
   "id": "ca25a757-134c-4056-bba2-0626d18c9fef",
   "metadata": {},
   "outputs": [
    {
     "data": {
      "text/html": [
       "<div>\n",
       "<style scoped>\n",
       "    .dataframe tbody tr th:only-of-type {\n",
       "        vertical-align: middle;\n",
       "    }\n",
       "\n",
       "    .dataframe tbody tr th {\n",
       "        vertical-align: top;\n",
       "    }\n",
       "\n",
       "    .dataframe thead th {\n",
       "        text-align: right;\n",
       "    }\n",
       "</style>\n",
       "<table border=\"1\" class=\"dataframe\">\n",
       "  <thead>\n",
       "    <tr style=\"text-align: right;\">\n",
       "      <th></th>\n",
       "      <th>first_name</th>\n",
       "      <th>last_name</th>\n",
       "      <th>subject</th>\n",
       "      <th>grade</th>\n",
       "    </tr>\n",
       "  </thead>\n",
       "  <tbody>\n",
       "    <tr>\n",
       "      <th>0</th>\n",
       "      <td>Hunter</td>\n",
       "      <td>Holden</td>\n",
       "      <td>History</td>\n",
       "      <td>100</td>\n",
       "    </tr>\n",
       "    <tr>\n",
       "      <th>1</th>\n",
       "      <td>Hunter</td>\n",
       "      <td>Holden</td>\n",
       "      <td>Math</td>\n",
       "      <td>78</td>\n",
       "    </tr>\n",
       "    <tr>\n",
       "      <th>2</th>\n",
       "      <td>Hunter</td>\n",
       "      <td>Holden</td>\n",
       "      <td>English</td>\n",
       "      <td>93</td>\n",
       "    </tr>\n",
       "    <tr>\n",
       "      <th>3</th>\n",
       "      <td>Mckenna</td>\n",
       "      <td>Kundis</td>\n",
       "      <td>History</td>\n",
       "      <td>95</td>\n",
       "    </tr>\n",
       "    <tr>\n",
       "      <th>4</th>\n",
       "      <td>Mckenna</td>\n",
       "      <td>Kundis</td>\n",
       "      <td>Math</td>\n",
       "      <td>88</td>\n",
       "    </tr>\n",
       "    <tr>\n",
       "      <th>5</th>\n",
       "      <td>Mckenna</td>\n",
       "      <td>Kundis</td>\n",
       "      <td>English</td>\n",
       "      <td>90</td>\n",
       "    </tr>\n",
       "    <tr>\n",
       "      <th>6</th>\n",
       "      <td>Kate</td>\n",
       "      <td>Gillen</td>\n",
       "      <td>History</td>\n",
       "      <td>89</td>\n",
       "    </tr>\n",
       "    <tr>\n",
       "      <th>7</th>\n",
       "      <td>Kate</td>\n",
       "      <td>Gillen</td>\n",
       "      <td>Math</td>\n",
       "      <td>67</td>\n",
       "    </tr>\n",
       "    <tr>\n",
       "      <th>8</th>\n",
       "      <td>Kate</td>\n",
       "      <td>Gillen</td>\n",
       "      <td>English</td>\n",
       "      <td>98</td>\n",
       "    </tr>\n",
       "    <tr>\n",
       "      <th>9</th>\n",
       "      <td>Margot</td>\n",
       "      <td>Brady</td>\n",
       "      <td>History</td>\n",
       "      <td>100</td>\n",
       "    </tr>\n",
       "  </tbody>\n",
       "</table>\n",
       "</div>"
      ],
      "text/plain": [
       "  first_name last_name  subject  grade\n",
       "0     Hunter    Holden  History    100\n",
       "1     Hunter    Holden     Math     78\n",
       "2     Hunter    Holden  English     93\n",
       "3    Mckenna    Kundis  History     95\n",
       "4    Mckenna    Kundis     Math     88\n",
       "5    Mckenna    Kundis  English     90\n",
       "6       Kate    Gillen  History     89\n",
       "7       Kate    Gillen     Math     67\n",
       "8       Kate    Gillen  English     98\n",
       "9     Margot     Brady  History    100"
      ]
     },
     "execution_count": 22,
     "metadata": {},
     "output_type": "execute_result"
    }
   ],
   "source": [
    "#Combined pandas dataframe\n",
    "stugrades = pd.read_sql_query('''\n",
    "SELECT students.first_name, students.last_name, grades.subject, grades.grade\n",
    "FROM students\n",
    "JOIN grades ON students.student_id = grades.student_id\n",
    "''', connection)\n",
    "\n",
    "stugrades.head(10)"
   ]
  },
  {
   "cell_type": "code",
   "execution_count": 23,
   "id": "4bfcb0cb-7874-490a-814a-62798fd97685",
   "metadata": {},
   "outputs": [
    {
     "data": {
      "image/png": "[encoded data removed]",
      "text/plain": [
       "<Figure size 640x480 with 1 Axes>"
      ]
     },
     "metadata": {},
     "output_type": "display_data"
    }
   ],
   "source": [
    "#Plot the average grades for each student\n",
    "avggrades = stugrades.groupby(['first_name','last_name'])['grade'].mean().reset_index()\n",
    "\n",
    "import matplotlib.pyplot as plt\n",
    "\n",
    "plt.bar(avggrades['first_name'],avggrades['grade'])\n",
    "plt.plot()\n",
    "\n",
    "plt.xlabel(\"Student Name\", fontsize = 14)\n",
    "plt.ylabel(\"Grade Average\", fontsize = 14)\n",
    "plt.title(\"Average Grades For Each Student\", fontsize = 16)\n",
    "plt.ylim(80, 100)\n",
    "plt.show()\n"
   ]
  },
  {
   "cell_type": "code",
   "execution_count": 24,
   "id": "8163ad69-adb1-429c-bfb7-204363a714c5",
   "metadata": {},
   "outputs": [
    {
     "data": {
      "image/png": "[encoded data removed]",
      "text/plain": [
       "<Figure size 640x480 with 1 Axes>"
      ]
     },
     "metadata": {},
     "output_type": "display_data"
    }
   ],
   "source": [
    "#Create a bar chart showing the average grade for each subject\n",
    "\n",
    "subavgs = stugrades.groupby('subject')['grade'].mean().reset_index()\n",
    "import matplotlib.pyplot as plt\n",
    "\n",
    "plt.bar(subavgs['subject'],subavgs['grade'])\n",
    "plt.plot()\n",
    "\n",
    "plt.xlabel(\"Subject\", fontsize = 14)\n",
    "plt.ylabel(\"Grade Average\", fontsize = 14)\n",
    "plt.title(\"Average Grades For Each Subject\", fontsize = 16)\n",
    "plt.ylim(80, 100)\n",
    "plt.show()\n",
    "\n",
    "connection.close()"
   ]
  },
  {
   "cell_type": "code",
   "execution_count": 30,
   "id": "58992c9b-2004-43ba-9d8e-a7d212617255",
   "metadata": {},
   "outputs": [
    {
     "name": "stdout",
     "output_type": "stream",
     "text": [
      "Highest grades for each subject\n",
      "Kate Gillen: English\n",
      "Hunter Holden: History\n",
      "Margot Brady: Math\n"
     ]
    }
   ],
   "source": [
    "# BONUS: Implement a query that finds the student with the highest grade in each subject\n",
    "connection = sqlite3.connect('student_grades.db')\n",
    "cursor = connection.cursor()\n",
    "\n",
    "\n",
    "cursor.execute('''\n",
    "SELECT students.first_name, students.last_name, grades.subject, MAX(grades.grade) as highestgrade\n",
    "FROM students\n",
    "JOIN grades ON students.student_id = grades.student_id\n",
    "GROUP BY grades.subject\n",
    "''')\n",
    "\n",
    "\n",
    "highestgrades = cursor.fetchall()\n",
    "\n",
    "print('Highest grades for each subject')\n",
    "for row in highestgrades:\n",
    "    print(f\"{row[0]} {row[1]}: {row[2]}\")\n",
    "\n",
    "cursor.close()\n"
   ]
  }
 ],
 "metadata": {
  "kernelspec": {
   "display_name": "Python 3 (ipykernel)",
   "language": "python",
   "name": "python3"
  },
  "language_info": {
   "codemirror_mode": {
    "name": "ipython",
    "version": 3
   },
   "file_extension": ".py",
   "mimetype": "text/x-python",
   "name": "python",
   "nbconvert_exporter": "python",
   "pygments_lexer": "ipython3",
   "version": "3.12.4"
  }
 },
 "nbformat": 4,
 "nbformat_minor": 5
}
